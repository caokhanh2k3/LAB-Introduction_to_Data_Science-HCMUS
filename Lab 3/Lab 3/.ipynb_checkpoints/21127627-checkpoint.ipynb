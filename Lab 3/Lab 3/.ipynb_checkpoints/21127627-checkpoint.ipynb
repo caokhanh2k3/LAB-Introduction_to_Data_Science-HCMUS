{
 "cells": [
  {
   "cell_type": "markdown",
   "id": "455c665e-440c-4390-93e0-e208b4377f36",
   "metadata": {
    "id": "455c665e-440c-4390-93e0-e208b4377f36"
   },
   "source": [
    "# Lab 3 - Visualization\n",
    "\n",
    "Last update: 11/11/2023\n",
    "\n",
    "- Name: Cao Nguyễn Khánh\n",
    "- Student ID: 21127627\n",
    "\n",
    "***"
   ]
  },
  {
   "cell_type": "markdown",
   "id": "fb4fbe9f-38f4-48f9-b52b-41f95b495e3d",
   "metadata": {
    "id": "fb4fbe9f-38f4-48f9-b52b-41f95b495e3d"
   },
   "source": [
    "## Work and submission guidelines\n",
    "\n",
    "**Work on your assignment**\n",
    "\n",
    "- You need to do your assignment directly in this notebook. First, fill out your name and ID at the beginning of the file. In the notebook, fill in places that say:\n",
    "```python\n",
    "#TODO\n",
    "```\n",
    "\n",
    "- During your work, you can print out the result, create more cells to test, or create more functions to handle things. Please note that <font color=red>you are not allowed to delete or modify my code cells</font> (except in the case that mentioned above). Remember to remove `raise NotImplementedError(\"not implement\")` when running the code.\n",
    "\n",
    "- Always press `Ctrl + S` in order to save your work.\n",
    "\n",
    "**Notes:**\n",
    "\n",
    "    *  Copy means zero\n",
    "    *  You have to submit your work on time. No exception\n",
    "    *  Any questions about your grade are based on the assignment submitted on Moodle\n",
    "    *  Wrong submission takes you -2 points\n",
    "\n",
    "**Submit your work**\n",
    "\n",
    "- When grading your assignment, I will choose `Kernel` - `Restart Kernel & Run All Cells` in order to restart the kernel and run all cells in your notebook. Therefore, you should do that before submitting to ensure that the outputs are all as expected.\n",
    "\n",
    "- After that, rename you notebook with your student ID (e.g. `1234567.ipynb`) and submit on Moodle.\n",
    "\n",
    "- <font color=red>Please strictly follow the submission rules.</font>\n",
    "\n",
    "## Abstract and general requirements\n",
    "\n",
    "**Abstract**\n",
    "\n",
    "- In this assignment, you are required to visualize data and results. This task is very important since it provides reader (your clients, your boss,...) an overview of the data as well as your results.\n",
    "\n",
    "- You will visualize the data in order to answer some questions. By answering these questions, you are able to get some insights from data.\n",
    "\n",
    "- You will also visualize the results of machine learning model to be able to know whether your model works well or not.\n",
    "\n",
    "**General requirements**\n",
    "\n",
    "- Every charts **must have their own name, axes name, legends**.\n",
    "- The charts you draw must not only be correct but also beautiful:\n",
    "    - The correctness is shown in choosing the right chart and accurately calculating the data to draw the chart.\n",
    "    - The beauty is expressed in the UI/UX of the chart. The beauty of UI is shown in choosing the colors, layout of the chart. The beauty of UX is reflected in the fact that the reader can easily capture your message conveyed through your notebook.\n",
    "\n",
    "---"
   ]
  },
  {
   "cell_type": "code",
   "execution_count": 1,
   "id": "6be27302-5f7a-4b74-ab4a-7a1114ebb7fe",
   "metadata": {
    "id": "6be27302-5f7a-4b74-ab4a-7a1114ebb7fe"
   },
   "outputs": [],
   "source": [
    "# visialize stuff\n",
    "\n",
    "import pandas as pd\n",
    "import matplotlib.pyplot as plt\n",
    "import numpy as np\n",
    "import seaborn as sn\n",
    "import json\n",
    "# !pip install geopandas\n",
    "import geopandas\n",
    "\n",
    "# modeling stuff\n",
    "import torch\n",
    "from torch import nn\n",
    "from torch.utils.data import DataLoader\n",
    "from torchvision import datasets\n",
    "from torchvision.transforms import ToTensor\n",
    "import random"
   ]
  },
  {
   "cell_type": "code",
   "execution_count": null,
   "id": "290d6f0a",
   "metadata": {},
   "outputs": [],
   "source": [
    "# !pip install seaborn\n"
   ]
  },
  {
   "cell_type": "markdown",
   "id": "6ee4f4a9-0a6c-4df5-ae6a-303fc269de90",
   "metadata": {
    "id": "6ee4f4a9-0a6c-4df5-ae6a-303fc269de90"
   },
   "source": [
    "## Data visualization\n",
    "\n",
    "- In this section, you are going to compute and visualize some information about Covid-19\n",
    "- The data prepared in `./data` was collected from Worldometer\n",
    "- Link: https://www.worldometers.info/coronavirus/"
   ]
  },
  {
   "cell_type": "code",
   "execution_count": null,
   "id": "d3ba8a9e-9537-4df1-8adb-9da6565b5e8b",
   "metadata": {
    "id": "d3ba8a9e-9537-4df1-8adb-9da6565b5e8b",
    "outputId": "e6fae71c-8910-48a7-e738-667fc7732db3"
   },
   "outputs": [],
   "source": [
    "# read the data into a dataframe\n",
    "df = pd.read_csv('./data/data.csv')\n",
    "print(f'Shape: {df.shape}')\n",
    "df.head(5)"
   ]
  },
  {
   "cell_type": "markdown",
   "id": "8057998b-1e6e-4ce0-a430-53dc7cc6905e",
   "metadata": {
    "id": "8057998b-1e6e-4ce0-a430-53dc7cc6905e"
   },
   "source": [
    "### Requrement #1: Preprocess\n",
    "\n",
    "- **TODO**: Take a look at the data files, then go to the URL aforementioned, explore the meaning of columns in the dataset and fill in the blanks:\n",
    "    - Country Name: ...\n",
    "    - Total Cases: ...\n",
    "    - New Cases: ...\n",
    "    - Total Deaths: ...\n",
    "    - New Deaths: ...\n",
    "    - Total Recovered: ...\n",
    "    - Active Cases: ...\n",
    "    - Critical Cases: ...\n",
    "    - Total Tests: ...\n",
    "    - Population: ...\n",
    "\n",
    "- Check the data with `info()` function"
   ]
  },
  {
   "cell_type": "code",
   "execution_count": null,
   "id": "3ee47034-0bf2-4c0d-92d5-de1400fd0880",
   "metadata": {
    "id": "3ee47034-0bf2-4c0d-92d5-de1400fd0880",
    "outputId": "c7d55399-b29a-432d-d5d8-2400469acff2"
   },
   "outputs": [],
   "source": [
    "df.info()"
   ]
  },
  {
   "cell_type": "markdown",
   "id": "62222241-60d9-485d-ad11-8d688c900e5a",
   "metadata": {
    "id": "62222241-60d9-485d-ad11-8d688c900e5a"
   },
   "source": [
    "- You can see that `New Cases`, `New Deaths`, `Critical Cases` have a lot of missing data (at least 33.3%). Therefore, we have to remove these columns.\n",
    "- Most of data in columns are `object` type, which are not suitable at all. They should be converted to integer.\n",
    "- `Total Recovered`, `Active Cases` and `Total Tests` only have a few missing values, so we can fill in these missing values with median value of each column."
   ]
  },
  {
   "cell_type": "code",
   "execution_count": null,
   "id": "9d388910-4292-4086-904d-4879ff0bb68f",
   "metadata": {
    "id": "9d388910-4292-4086-904d-4879ff0bb68f",
    "outputId": "b86e5ada-f312-4fc8-ebb6-f29c5d636951"
   },
   "outputs": [],
   "source": [
    "# TODO: drop New Cases, New Deaths, Critical Cases\n",
    "# raise NotImplementedError('not implemented')\n",
    "columns_to_drop = ['New Cases', 'New Deaths', 'Critical Cases']\n",
    "df = df.drop(columns=columns_to_drop)\n",
    "\n",
    "# check the result\n",
    "df.info()"
   ]
  },
  {
   "cell_type": "code",
   "execution_count": null,
   "id": "4c966efe-bda4-463b-afcb-4f2900fe216c",
   "metadata": {
    "id": "4c966efe-bda4-463b-afcb-4f2900fe216c",
    "outputId": "a78d9224-cde8-4bb9-b9fa-bc6c5222e15a"
   },
   "outputs": [],
   "source": [
    "# TODO: convert data to integer. if the converter returns error, leave it a None\n",
    "# raise NotImplementedError('not implemented')\n",
    "df['Total Cases'] = pd.to_numeric(df['Total Cases'].str.replace(',', ''), errors='coerce').astype('int64')\n",
    "df['Population'] = pd.to_numeric(df['Population'].str.replace(',', ''), errors='coerce').astype('int64')\n",
    "\n",
    "df['Total Deaths'] = pd.to_numeric(df['Total Deaths'].str.replace(',', ''), errors='coerce').astype('float64')\n",
    "df['Total Recovered'] = pd.to_numeric(df['Total Recovered'].str.replace(',', ''), errors='coerce').astype('float64')\n",
    "df['Active Cases'] = pd.to_numeric(df['Active Cases'].str.replace(',', ''), errors='coerce').astype('float64')\n",
    "df['Total Tests'] = pd.to_numeric(df['Total Tests'].str.replace(',', ''), errors='coerce').astype('float64')\n",
    "\n",
    "# check the result\n",
    "df.info()\n",
    " "
   ]
  },
  {
   "cell_type": "markdown",
   "id": "22038789-e3da-4bcd-82e3-23cb30269d43",
   "metadata": {
    "id": "22038789-e3da-4bcd-82e3-23cb30269d43"
   },
   "source": [
    "**TODO**: We did handle missing value before. Why do we still have missing values here?\n",
    "\n",
    "..."
   ]
  },
  {
   "cell_type": "code",
   "execution_count": null,
   "id": "c1373603-7e96-4e4d-8a5c-e930d6a4d5f9",
   "metadata": {
    "id": "c1373603-7e96-4e4d-8a5c-e930d6a4d5f9",
    "outputId": "de96c417-c05e-468a-db69-21829600154e"
   },
   "outputs": [],
   "source": [
    "# TODO: fill in the missing data with median value\n",
    "# raise NotImplementedError('not implemented')\n",
    "\n",
    "# Get the list of columns in the dataframe\n",
    "cols_list = list(df.columns)\n",
    "    \n",
    "# Exclude the last column - Country, Year\n",
    "cols_list.remove(\"Country Name\")\n",
    "\n",
    "    \n",
    "# Replace all None values with NaN, fillna only works on nans\n",
    "df.fillna(value=np.nan, inplace=True)\n",
    "    \n",
    "# Replace all NaN values with the mean of the column values\n",
    "for col in cols_list:\n",
    "    df[col].fillna((df[col].median()), inplace=True)\n",
    "\n",
    "# check the result\n",
    "df.info()"
   ]
  },
  {
   "cell_type": "markdown",
   "id": "ecd2c433-3fad-4001-8f53-a559ce85f8f8",
   "metadata": {
    "id": "ecd2c433-3fad-4001-8f53-a559ce85f8f8"
   },
   "source": [
    "**TODO**: Why do we have `float64` here?\n",
    "\n",
    "..."
   ]
  },
  {
   "cell_type": "code",
   "execution_count": null,
   "id": "ee010b6a-3666-402f-af1b-fff6aa665a8e",
   "metadata": {
    "id": "ee010b6a-3666-402f-af1b-fff6aa665a8e"
   },
   "outputs": [],
   "source": [
    "# TODO: save your new data frame to `./data/new_data.csv`\n",
    "\n",
    "# Save the updated DataFrame to a new CSV file\n",
    "df.to_csv('./data/new_data.csv', index=False)\n",
    "\n",
    "\n",
    "# raise NotImplementedError('not implemented')"
   ]
  },
  {
   "cell_type": "code",
   "execution_count": null,
   "id": "8e0f69ac-1444-4014-b513-f29f385a07bb",
   "metadata": {
    "id": "8e0f69ac-1444-4014-b513-f29f385a07bb"
   },
   "outputs": [],
   "source": [
    "# TEST\n",
    "file = open('./data/new_data.csv', 'r')\n",
    "new_data = file.read()\n",
    "file.close()\n",
    "\n",
    "file = open('./data/correct_data.csv', 'r')\n",
    "correct_data = file.read()\n",
    "file.close()\n",
    "\n",
    "assert new_data == correct_data"
   ]
  },
  {
   "cell_type": "markdown",
   "id": "3ab18176-c100-452d-a34b-2df728c673fe",
   "metadata": {
    "id": "3ab18176-c100-452d-a34b-2df728c673fe"
   },
   "source": [
    "### Requirement #2: Visualize single variable\n",
    "\n",
    "- For now, if you do not pass the test, you have to work on the correct file by un-commenting the cell code below to read the `./data/correct_data.csv` into `df`\n",
    "- You are going to draw 6 bar charts which show all the fields of dataset. For each bar chart, sort the values of countries in descending order and only visualize 5 countries"
   ]
  },
  {
   "cell_type": "code",
   "execution_count": 2,
   "id": "4ba5658f-4bcd-447e-bb23-f1a07e094a84",
   "metadata": {
    "id": "4ba5658f-4bcd-447e-bb23-f1a07e094a84",
    "outputId": "205af838-1866-4ace-88e9-7892ab73cbba"
   },
   "outputs": [
    {
     "data": {
      "text/html": [
       "<div>\n",
       "<style scoped>\n",
       "    .dataframe tbody tr th:only-of-type {\n",
       "        vertical-align: middle;\n",
       "    }\n",
       "\n",
       "    .dataframe tbody tr th {\n",
       "        vertical-align: top;\n",
       "    }\n",
       "\n",
       "    .dataframe thead th {\n",
       "        text-align: right;\n",
       "    }\n",
       "</style>\n",
       "<table border=\"1\" class=\"dataframe\">\n",
       "  <thead>\n",
       "    <tr style=\"text-align: right;\">\n",
       "      <th></th>\n",
       "      <th>Country Name</th>\n",
       "      <th>Total Cases</th>\n",
       "      <th>Total Deaths</th>\n",
       "      <th>Total Recovered</th>\n",
       "      <th>Active Cases</th>\n",
       "      <th>Total Tests</th>\n",
       "      <th>Population</th>\n",
       "    </tr>\n",
       "  </thead>\n",
       "  <tbody>\n",
       "    <tr>\n",
       "      <th>0</th>\n",
       "      <td>USA</td>\n",
       "      <td>31990143</td>\n",
       "      <td>576298.0</td>\n",
       "      <td>24560856.0</td>\n",
       "      <td>6852989.0</td>\n",
       "      <td>420822699.0</td>\n",
       "      <td>332516170</td>\n",
       "    </tr>\n",
       "    <tr>\n",
       "      <th>1</th>\n",
       "      <td>India</td>\n",
       "      <td>13689453</td>\n",
       "      <td>171089.0</td>\n",
       "      <td>12253697.0</td>\n",
       "      <td>1264667.0</td>\n",
       "      <td>259207108.0</td>\n",
       "      <td>1390568032</td>\n",
       "    </tr>\n",
       "    <tr>\n",
       "      <th>2</th>\n",
       "      <td>Brazil</td>\n",
       "      <td>13521409</td>\n",
       "      <td>355031.0</td>\n",
       "      <td>11957068.0</td>\n",
       "      <td>1209310.0</td>\n",
       "      <td>28600000.0</td>\n",
       "      <td>213737070</td>\n",
       "    </tr>\n",
       "    <tr>\n",
       "      <th>3</th>\n",
       "      <td>France</td>\n",
       "      <td>5067216</td>\n",
       "      <td>99135.0</td>\n",
       "      <td>310934.0</td>\n",
       "      <td>4657147.0</td>\n",
       "      <td>70140847.0</td>\n",
       "      <td>65386285</td>\n",
       "    </tr>\n",
       "    <tr>\n",
       "      <th>4</th>\n",
       "      <td>Russia</td>\n",
       "      <td>4657883</td>\n",
       "      <td>103601.0</td>\n",
       "      <td>4281776.0</td>\n",
       "      <td>272506.0</td>\n",
       "      <td>124100000.0</td>\n",
       "      <td>145983351</td>\n",
       "    </tr>\n",
       "  </tbody>\n",
       "</table>\n",
       "</div>"
      ],
      "text/plain": [
       "  Country Name  Total Cases  Total Deaths  Total Recovered  Active Cases  \\\n",
       "0          USA     31990143      576298.0       24560856.0     6852989.0   \n",
       "1        India     13689453      171089.0       12253697.0     1264667.0   \n",
       "2       Brazil     13521409      355031.0       11957068.0     1209310.0   \n",
       "3       France      5067216       99135.0         310934.0     4657147.0   \n",
       "4       Russia      4657883      103601.0        4281776.0      272506.0   \n",
       "\n",
       "   Total Tests  Population  \n",
       "0  420822699.0   332516170  \n",
       "1  259207108.0  1390568032  \n",
       "2   28600000.0   213737070  \n",
       "3   70140847.0    65386285  \n",
       "4  124100000.0   145983351  "
      ]
     },
     "execution_count": 2,
     "metadata": {},
     "output_type": "execute_result"
    }
   ],
   "source": [
    "# # un-comment these lines of code\n",
    "\n",
    "# import pandas as pd\n",
    "# import matplotlib.pyplot as plt\n",
    "# import numpy as np\n",
    "\n",
    "df = pd.read_csv('./data/correct_data.csv')\n",
    "\n",
    "df.head()"
   ]
  },
  {
   "cell_type": "code",
   "execution_count": 3,
   "id": "642efea7-b50f-45b5-9d28-45749bd481d5",
   "metadata": {
    "id": "642efea7-b50f-45b5-9d28-45749bd481d5",
    "outputId": "a65d6542-09da-4da9-846e-3309c10eb754",
    "scrolled": true
   },
   "outputs": [
    {
     "data": {
      "image/png": "[encoded data removed]",
      "text/plain": [
       "<Figure size 1500x800 with 6 Axes>"
      ]
     },
     "metadata": {},
     "output_type": "display_data"
    }
   ],
   "source": [
    "# TODO: draw 6 bar charts\n",
    "# raise NotImplementedError('not implemented')\n",
    "# Plotting bar charts\n",
    "\n",
    "\n",
    "fig, axes = plt.subplots(nrows=2, ncols=3, figsize=(15, 8))\n",
    "\n",
    "for i, column in enumerate(df.columns[1:]):\n",
    "    ax = axes[i // 3, i % 3]\n",
    "\n",
    "    # Sort values in descending order and select top 5 countries\n",
    "    sorted_df = df.sort_values(by=column, ascending=False).head(5)\n",
    "\n",
    "    # Plot bar chart\n",
    "    sorted_df.plot(kind='bar', x='Country Name', y=column, ax=ax, legend=False)\n",
    "\n",
    "    ax.set_title(f'Thống kê {column}')\n",
    "    ax.set_xlabel('Quốc gia')\n",
    "    ax.set_ylabel('Số lượng')\n",
    "    \n",
    "    # Add horizontal lines at y ticks with alpha for transparency\n",
    "    for y_tick in ax.get_yticks()[:-1]:\n",
    "        ax.axhline(y_tick, color='black', linestyle='-', linewidth=1, alpha=0.3)\n",
    "\n",
    "plt.tight_layout()\n",
    "plt.show()"
   ]
  },
  {
   "cell_type": "markdown",
   "id": "d8bffd3a-f6f2-4d19-af3c-153b50d67ad2",
   "metadata": {
    "id": "d8bffd3a-f6f2-4d19-af3c-153b50d67ad2"
   },
   "source": [
    "**TODO**: Comment about the chart\n",
    "\n",
    "..."
   ]
  },
  {
   "cell_type": "markdown",
   "id": "f18dd3ea",
   "metadata": {
    "id": "f18dd3ea"
   },
   "source": [
    "### Requirement #3: Draw world map\n",
    "\n",
    "- Using bar chart just gives you a little bit information about numbers\n",
    "- In this requirement, you are going to draw a world map with circles which shows the number of cases for each country. Specifically, you are provided a file named `coord.json` that contains longitude and latitude of each country. You are going to use `Total cases` and `Total Death` to draw the following charts"
   ]
  },
  {
   "cell_type": "code",
   "execution_count": null,
   "id": "7a8a5b2c",
   "metadata": {
    "id": "7a8a5b2c",
    "outputId": "3a0728a6-d680-4aa0-b48e-b9678f2ec4a0"
   },
   "outputs": [],
   "source": [
    "# TODO: draw 2 world map chart using geopandas\n",
    "\n",
    "# raise NotImplementedError('not implemented')\n",
    "\n",
    "\n",
    "# Tạo DataFrame với tọa độ (0, 0)\n",
    "data = {'Latitude': [0], 'Longitude': [0]}\n",
    "df = pd.DataFrame(data)\n",
    "\n",
    "# Tạo GeoDataFrame cho đường tròn tại tọa độ (0, 0)\n",
    "radius = 10  # Bán kính của đường tròn\n",
    "theta = np.linspace(0, 2 * np.pi, 100)  # Góc theta từ 0 đến 2*pi radian\n",
    "x = radius * np.cos(theta)\n",
    "y = radius * np.sin(theta)\n",
    "\n",
    "\n",
    "\n",
    "# Chuyển DataFrame thành GeoDataFrame\n",
    "gdf_point = gpd.GeoDataFrame(df, geometry=gpd.points_from_xy(df['Longitude'], df['Latitude']), crs=\"EPSG:4326\")\n",
    "\n",
    "# Tải dữ liệu bản đồ thế giới\n",
    "world = gpd.read_file(gpd.datasets.get_path('naturalearth_lowres'))\n",
    "\n",
    "# Vẽ bản đồ thế giới\n",
    "ax = world.plot()\n",
    "\n",
    "# Vẽ đường tròn trên bản đồ\n",
    "ax.plot(x, y, color='red', linewidth=1)\n",
    "\n",
    "# Hiển thị bản đồ\n",
    "plt.show()\n",
    "\n"
   ]
  },
  {
   "cell_type": "markdown",
   "id": "afdfe7ec",
   "metadata": {
    "id": "afdfe7ec"
   },
   "source": [
    "**TODO**: Comment about the chart\n",
    "\n",
    "..."
   ]
  },
  {
   "cell_type": "markdown",
   "id": "9fb35cfc-f818-4789-b419-03334c30d86b",
   "metadata": {
    "id": "9fb35cfc-f818-4789-b419-03334c30d86b"
   },
   "source": [
    "### Requirement #4: Relationship between 2 variables\n",
    "\n",
    "- Exploring the relationship between variables is a needed task to do\n",
    "- You will start with exploring the linear relationship between 2 variables. In order to do so, draw $C_6^2=15$ scatter plots. For each plot, draw a line that shows the linear relationship of variables. You should implement the line yourself instead of using library."
   ]
  },
  {
   "cell_type": "code",
   "execution_count": null,
   "id": "159593c1-96d0-4894-923f-c665e28a9a2f",
   "metadata": {
    "id": "159593c1-96d0-4894-923f-c665e28a9a2f",
    "outputId": "a53e54d9-e71f-495a-a3de-1625008b0a43"
   },
   "outputs": [],
   "source": [
    "# TODO: scatter stuff\n",
    "raise NotImplementedError('not implemented')"
   ]
  },
  {
   "cell_type": "markdown",
   "id": "7e0eb3b2-07a4-45c2-a369-245e5aa24852",
   "metadata": {
    "id": "7e0eb3b2-07a4-45c2-a369-245e5aa24852"
   },
   "source": [
    "**TODO**: As showed above, give your prediction about the relationship between each pair.\n",
    "\n",
    "..."
   ]
  },
  {
   "cell_type": "markdown",
   "id": "11647f22-caf0-4625-997a-60f1f55ceb0d",
   "metadata": {
    "id": "11647f22-caf0-4625-997a-60f1f55ceb0d"
   },
   "source": [
    "### Requirement #5: Double check the relationship between 2 variables\n",
    "\n",
    "- In order to make sure about the linear relationship, you have to check each pair with **Pearson correlation coefficient**\n",
    "- Specifically, $\\rho$ is calculated as follows:\n",
    "\n",
    "$$\\rho_{X, Y} = \\frac{cov(X, Y)}{\\sigma_X \\sigma_Y}$$\n",
    "\n",
    "- Then, plot these 15 values using heatmap"
   ]
  },
  {
   "cell_type": "code",
   "execution_count": null,
   "id": "c28f33a6-2449-4eea-a468-68af1d81377b",
   "metadata": {
    "id": "c28f33a6-2449-4eea-a468-68af1d81377b",
    "outputId": "a3f27cf4-4428-4794-c61a-b0482cb4b614"
   },
   "outputs": [],
   "source": [
    "# TODO: create heatamp\n",
    "raise NotImplementedError('not implemented')"
   ]
  },
  {
   "cell_type": "markdown",
   "id": "7c522842",
   "metadata": {
    "id": "7c522842"
   },
   "source": [
    "For now, you can check whether your prediction is right or wrong!"
   ]
  },
  {
   "cell_type": "markdown",
   "id": "e8ec79b5",
   "metadata": {
    "id": "e8ec79b5"
   },
   "source": [
    "## Model visualization\n",
    "\n",
    "- In this section, we are going to visualize the training and testing process of machine learning model\n",
    "- The process of training and testing a model is as follow:\n",
    "    1. Prepare data for training and testing\n",
    "    2. Create a model\n",
    "    3. Train and test the model\n",
    "    4. Visualize the result\n",
    "\n",
    "- You are required to:\n",
    "    1. Study Multi-layer neural network and Convolutional neural network\n",
    "    2. Study `Pytorch` in order to prepare data and design machine learning model\n",
    "    3. Design 2 models to classify MNIST dataset. Then, visualize the result of each model and compare the result to each other\n",
    "        - Model 1: A fully-connected model with 4 layers. The input layer has $784$ neurons. The hidden layer #1 has $1024$ neurons, which is followed by a $ReLU$ as activation functions. The hidden layer #2 has $512$ neurons, also followed by a $ReLU$ as activation functions. The output layer has $10$ neurons (of course), which follows by a $LogSoftmax$ function\n",
    "        - Model 2: A CNN model with 2 Convolution layers and 1 linear layer. All the CNN layers have 20 filters, kernel size equal to $5$. Each of them is followed by a $ReLU$ activation function and a MaxPooling2D layer ($kernel\\_size=2$). The linear layer is followed by a $LogSoftmax$ activation function\n",
    "\n",
    "- Google Colab can be used since it provides free GPU, which makes your training and testing process faster"
   ]
  },
  {
   "cell_type": "markdown",
   "id": "add832fd",
   "metadata": {
    "id": "add832fd"
   },
   "source": [
    "### Requirement #6: Prepare data\n",
    "\n",
    "- `Pytorch` supports a lot of datasets for running machine learning model. In this lab, we use MNIST dataset. So, download the training set and the testing set using `Pytorch` and store them in `./data`\n",
    "- Note that you have to transform your data into `tensor` (a datatype that's quite similar to `numpy array`) so you can input to model\n",
    "- After that, create `train_dataloader` and `test_dataloader`\n",
    "\n",
    "**TODO**: Explain why we have to create dataloader\n",
    "\n",
    "..."
   ]
  },
  {
   "cell_type": "code",
   "execution_count": null,
   "id": "b11938c4-ea35-4acc-ba4e-94d5bfacfaf9",
   "metadata": {
    "id": "b11938c4-ea35-4acc-ba4e-94d5bfacfaf9"
   },
   "outputs": [],
   "source": [
    "# TODO: download training, testing data and store them into training_data and testing_data\n",
    "# Then, create train_dataloader and test_dataloader with batch_size=32\n",
    "raise NotImplementedError('not implemented')"
   ]
  },
  {
   "cell_type": "markdown",
   "id": "90947733-4515-45f4-93dc-ea65caa14c90",
   "metadata": {
    "id": "90947733-4515-45f4-93dc-ea65caa14c90"
   },
   "source": [
    "- After downloading the data, visualize 10 random samples (2 rows, 5 samples for each row) from training set."
   ]
  },
  {
   "cell_type": "code",
   "execution_count": null,
   "id": "c0a8cc26-92ad-42dc-84bb-4c0e6a756256",
   "metadata": {
    "id": "c0a8cc26-92ad-42dc-84bb-4c0e6a756256",
    "outputId": "beb5a0df-b5ee-476a-f5f9-dac3d8cc62de"
   },
   "outputs": [],
   "source": [
    "# TODO: visualize 10 random samples\n",
    "raise NotImplementedError('not implemented')"
   ]
  },
  {
   "cell_type": "markdown",
   "id": "663b3ca1",
   "metadata": {
    "id": "663b3ca1"
   },
   "source": [
    "### Requirement #7: Create models\n",
    "\n",
    "- Create 2 models as mentioned above. Call them `Mnist_FC` and `Mnist_CNN`\n",
    "- **I strongly recommend that you should slowly implement, print out the output and its shape of each layer in order to get a deep understanding of what you are trying to do**\n",
    "- Before moving to the next requirement, you should test your model with a random sample of the dataset. In case you create code cells for testing, remember to remove these cells"
   ]
  },
  {
   "cell_type": "code",
   "execution_count": null,
   "id": "fbe62c84",
   "metadata": {
    "id": "fbe62c84"
   },
   "outputs": [],
   "source": [
    "# TODO: create Mnist_FC and Mnist_CNN\n",
    "raise NotImplementedError('not implemented')"
   ]
  },
  {
   "cell_type": "markdown",
   "id": "d482ade9",
   "metadata": {
    "id": "d482ade9"
   },
   "source": [
    "### Requirement #8: Train and test models\n",
    "\n",
    "- Design `train` and `test` function with the parameters provided in the following code cell\n",
    "    - `train` function trains the model with all the data in training set\n",
    "    - `test` function tests the model with all data in testing set\n",
    "\n",
    "- Return the accuracy (e.g. $0.847351$) after training and testing\n",
    "\n",
    "**TODO**: Explain the parameters of `train` and `test` function. In `test` function, there is a line of code that says `with torch.no_grad()`. Why do we have this line of code?\n",
    "\n",
    "..."
   ]
  },
  {
   "cell_type": "code",
   "execution_count": null,
   "id": "127073bb-bfad-4bbe-a52b-cd41dfb71281",
   "metadata": {
    "id": "127073bb-bfad-4bbe-a52b-cd41dfb71281",
    "outputId": "a9cbebe6-40b8-4973-86ec-edd5ee97c7c7"
   },
   "outputs": [],
   "source": [
    "# TODO: design train and test function\n",
    "\n",
    "# check gpu\n",
    "device = \"cuda\" if torch.cuda.is_available() else \"cpu\"\n",
    "print(f'Using {device} for training and testing')\n",
    "\n",
    "def train(dataloader, model, loss_fn, optimizer):\n",
    "    raise NotImplementedError('not implemented')\n",
    "\n",
    "def test(dataloader, model):\n",
    "    raise NotImplementedError('not implemented')"
   ]
  },
  {
   "cell_type": "markdown",
   "id": "5383aef3-4952-49ed-a70b-d3734210baf1",
   "metadata": {
    "id": "5383aef3-4952-49ed-a70b-d3734210baf1"
   },
   "source": [
    "- Run 20 epochs for each model. In order to do so, at fist, you have to define `learning_rate, loss_fn` and `optimizer`. I will help you on that\n",
    "\n",
    "- Save the history of training and testing process as `history_fc` and `history_cnn`. During the running process, you should print out the accuracy in order to keep track\n",
    "\n",
    "- The history is a dictionary with the following structure:\n",
    "\n",
    "```python\n",
    "history = {\n",
    "    1: [0.6, 0.5], # the key (type: int) is the epoch\n",
    "    2: [0.7, 0.6], # the value (type: list) contains the accuracy of training and testing process at the corresponding epoch\n",
    "    ...\n",
    "}\n",
    "```\n",
    "\n",
    "**TODO**: List out some loss functions and optimizers that you have heard about\n",
    "\n",
    "..."
   ]
  },
  {
   "cell_type": "code",
   "execution_count": null,
   "id": "7ba9cca6-d870-4c55-b20c-45f12a7fd578",
   "metadata": {
    "id": "7ba9cca6-d870-4c55-b20c-45f12a7fd578",
    "outputId": "c1df1607-53ce-441c-c23d-d9cd67bffdc3"
   },
   "outputs": [],
   "source": [
    "# define model\n",
    "\n",
    "loss_fn = nn.CrossEntropyLoss()\n",
    "learning_rate = 1e-3\n",
    "optimizer = torch.optim.SGD(model.parameters(), lr=learning_rate)\n",
    "\n",
    "# TODO: run 20 epochs for Mnist_FC and Mnist_CNN\n",
    "raise NotImplementedError('not implemented')"
   ]
  },
  {
   "cell_type": "markdown",
   "id": "479a3dc2",
   "metadata": {
    "id": "479a3dc2"
   },
   "source": [
    "### Requirement #9: Visualize\n",
    "\n",
    "- Produce a graph as the following code cell and comment about the running process of 2 models\n",
    "\n",
    "**TODO**: Your comment\n",
    "\n",
    "..."
   ]
  },
  {
   "cell_type": "code",
   "execution_count": null,
   "id": "61f61b9c",
   "metadata": {
    "id": "61f61b9c",
    "outputId": "043014fa-faea-4ace-8138-3673829857aa"
   },
   "outputs": [],
   "source": [
    "# TODO: visualize the history\n",
    "raise NotImplementedError('not implemented')"
   ]
  },
  {
   "cell_type": "markdown",
   "id": "ihI8Vhvyd05w",
   "metadata": {
    "id": "ihI8Vhvyd05w"
   },
   "source": [
    "- Highly recommend you go play around with the parameters of models and re-implement 2 models using `TensorFlow` on Colab"
   ]
  }
 ],
 "metadata": {
  "colab": {
   "provenance": []
  },
  "kernelspec": {
   "display_name": "Python 3 (ipykernel)",
   "language": "python",
   "name": "python3"
  },
  "language_info": {
   "codemirror_mode": {
    "name": "ipython",
    "version": 3
   },
   "file_extension": ".py",
   "mimetype": "text/x-python",
   "name": "python",
   "nbconvert_exporter": "python",
   "pygments_lexer": "ipython3",
   "version": "3.10.13"
  }
 },
 "nbformat": 4,
 "nbformat_minor": 5
}
